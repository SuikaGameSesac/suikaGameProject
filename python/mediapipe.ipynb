{
 "cells": [
  {
   "cell_type": "code",
   "execution_count": 1,
   "metadata": {},
   "outputs": [],
   "source": [
    "from PIL import ImageFont, ImageDraw, Image\n",
    "import numpy as np"
   ]
  },
  {
   "cell_type": "code",
   "execution_count": 2,
   "metadata": {},
   "outputs": [],
   "source": [
    "# 한글을 출력하기 위한 함수\n",
    "def draw_text(img, text, position, font_size, font_color):\n",
    "    font_path = \"C:/Windows/Fonts/gulim.ttc\"  # Windows에서 Gulim 폰트 경로\n",
    "\n",
    "    # opencv 이미지를 PIL이미지로 변환\n",
    "    img_pil = Image.fromarray(img)\n",
    "\n",
    "    # PIL Draw 객체 생성\n",
    "    draw = ImageDraw.Draw(img_pil)\n",
    "\n",
    "    # 폰트 스타일 지정\n",
    "    font = ImageFont.truetype(font_path, font_size)\n",
    "\n",
    "    # PIL 이미지에 텍스트 입력\n",
    "    draw.text(position, text, font=font, fill=font_color)\n",
    "    return np.array(img_pil) # 최종 numpy array 로 이미지 형태 반환"
   ]
  },
  {
   "cell_type": "code",
   "execution_count": 3,
   "metadata": {},
   "outputs": [],
   "source": [
    "import cv2\n",
    "import mediapipe as mp"
   ]
  },
  {
   "cell_type": "code",
   "execution_count": 4,
   "metadata": {},
   "outputs": [],
   "source": [
    "# 손가락의 개폐 상태를 판별하는 함수\n",
    "def get_hand_pose(hand_landmarks):\n",
    "    # 손가락 끝과 PIP(손가락 중간 관절) 사이의 거리를 비교하여 손가락이 펴져 있는지 확인\n",
    "    open_fingers = []\n",
    "    for i in [4, 8, 12, 16, 20]:  # 엄지부터 새끼손가락까지의 끝 랜드마크 인덱스\n",
    "        tip = hand_landmarks.landmark[i]  # 손가락 끝\n",
    "        pip = hand_landmarks.landmark[i - 2]  # 손가락 중간 관절\n",
    "\n",
    "        # if handedness.classification[0].label == \"Right\":  # 오른손인 경우 판별하기\n",
    "\n",
    "        # 엄지는 x좌표를, 나머지 손가락은 y좌표를 사용하여 개폐 상태 확인 - 오른손 기준\n",
    "        if i == 4:  # 엄지손가락인 경우\n",
    "            open_fingers.append(tip.x > pip.x)\n",
    "        else:\n",
    "            open_fingers.append(tip.y < pip.y)\n",
    "    \n",
    "    # Hold, Release 판별\n",
    "    if open_fingers.count(True) >= 4:\n",
    "        return False\n",
    "    else:\n",
    "        return True"
   ]
  },
  {
   "cell_type": "code",
   "execution_count": 5,
   "metadata": {},
   "outputs": [],
   "source": [
    "import socket\n",
    "\n",
    "socket_connect = socket.socket(socket.AF_INET, socket.SOCK_STREAM)\n",
    "\n",
    "host = \"127.0.0.1\"\n",
    "port = 65432\n",
    "\n",
    "socket_connect.connect((host, port))"
   ]
  },
  {
   "cell_type": "code",
   "execution_count": 6,
   "metadata": {},
   "outputs": [],
   "source": [
    "# MediaPipe Hands 모듈 초기화 - 미리 설정후 시작해보기\n",
    "mp_hands = mp.solutions.hands\n",
    "hands = mp_hands.Hands(\n",
    "    max_num_hands=1,               # 동시에 추적할 최대 손의 수\n",
    "    min_detection_confidence=0.5,  # 손 검출을 위한 최소 신뢰도\n",
    "    min_tracking_confidence=0.5)   # 손 추적을 위한 최소 신뢰도\n",
    "mp_drawing = mp.solutions.drawing_utils  # 그리기 함수 초기화\n",
    "\n",
    "# 웹캠 설정\n",
    "cap = cv2.VideoCapture(0)\n",
    "\n",
    "while cap.isOpened():\n",
    "    success, image = cap.read()\n",
    "    if not success:\n",
    "        continue\n",
    "\n",
    "    image = cv2.flip(image, 1)\n",
    "\n",
    "    # BGR 이미지를 RGB로 변환\n",
    "    image = cv2.cvtColor(image, cv2.COLOR_BGR2RGB)\n",
    "\n",
    "    # MediaPipe를 통해 손 검출\n",
    "    results = hands.process(image)\n",
    "\n",
    "    # 이미지를 RGB에서 BGR로 변환하여 그리기 작업 준비\n",
    "    image = cv2.cvtColor(image, cv2.COLOR_RGB2BGR)\n",
    "\n",
    "    # 검출된 손의 랜드마크를 이미지에 그림\n",
    "    if results.multi_hand_landmarks:\n",
    "        for hand_landmarks in results.multi_hand_landmarks:\n",
    "            mp_drawing.draw_landmarks(\n",
    "                image, hand_landmarks, mp_hands.HAND_CONNECTIONS,\n",
    "                mp_drawing.DrawingSpec(color=(121, 22, 76), thickness=2, circle_radius=4),\n",
    "                mp_drawing.DrawingSpec(color=(250, 44, 250), thickness=2))\n",
    "            \n",
    "            # 0~640\n",
    "            x = int(hand_landmarks.landmark[9].x * image.shape[1])\n",
    "            \n",
    "            # Is Holding\n",
    "            pose = get_hand_pose(hand_landmarks)\n",
    "\n",
    "            # Socket Send\n",
    "            socket_connect.sendall(bytes(str(x), 'utf-8'))\n",
    "            socket_connect.sendall(bytes(str(pose), 'utf-8'))\n",
    "\n",
    "            # Socket Recieve\n",
    "            data = socket_connect.recv(1024)\n",
    "\n",
    "            # 한글 출력을 위한 작업\n",
    "            # image = draw_text(image, str(x), (10, 50), 30, (255, 255, 255))\n",
    "            # image = draw_text(image, str(pose), (10, 100), 30, (255, 255, 255))\n",
    "            image = draw_text(image, str(data), (10, 50), 30, (255, 255, 255))\n",
    "\n",
    "    # 결과 이미지 표시\n",
    "    cv2.imshow('Hand Tracking', image)\n",
    "\n",
    "    # 'q'를 눌러 종료\n",
    "    if cv2.waitKey(5) & 0xFF == ord('q'):\n",
    "        break\n",
    "\n",
    "cap.release()\n",
    "cv2.destroyAllWindows()"
   ]
  }
 ],
 "metadata": {
  "kernelspec": {
   "display_name": "sesac_gpu_env310",
   "language": "python",
   "name": "python3"
  },
  "language_info": {
   "codemirror_mode": {
    "name": "ipython",
    "version": 3
   },
   "file_extension": ".py",
   "mimetype": "text/x-python",
   "name": "python",
   "nbconvert_exporter": "python",
   "pygments_lexer": "ipython3",
   "version": "3.10.14"
  }
 },
 "nbformat": 4,
 "nbformat_minor": 2
}
